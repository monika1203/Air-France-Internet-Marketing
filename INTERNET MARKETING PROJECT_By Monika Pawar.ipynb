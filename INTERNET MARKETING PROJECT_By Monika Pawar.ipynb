{
 "cells": [
  {
   "cell_type": "raw",
   "metadata": {},
   "source": []
  },
  {
   "cell_type": "markdown",
   "metadata": {},
   "source": [
    "# Project -- AIR FRANCE INTERNET MARKETING \n",
    "\n",
    "### This project will analyze the data that comes with the Air France case, interpret the results,and make recommendation from the Case: Air France Internet Marketing: Optimizing Google, Yahoo!, MSN, and Kayak Sponsored Search"
   ]
  },
  {
   "cell_type": "code",
   "execution_count": 1,
   "metadata": {},
   "outputs": [],
   "source": [
    "import pandas as pd\n",
    "import numpy as np\n",
    "import re\n",
    "\n",
    "import seaborn as sns\n",
    "import matplotlib.pyplot as plt\n",
    "%matplotlib inline\n",
    "\n",
    "import statsmodels.api as sm\n",
    "from scipy.stats import pearsonr, spearmanr\n",
    "\n",
    "from statsmodels.graphics.gofplots import ProbPlot\n",
    "\n",
    "from statsmodels.formula.api import ols"
   ]
  },
  {
   "cell_type": "markdown",
   "metadata": {},
   "source": [
    "### Load AirFrance Internet Marketing data into a dataframe"
   ]
  },
  {
   "cell_type": "code",
   "execution_count": 2,
   "metadata": {},
   "outputs": [],
   "source": [
    "AirFrance_df = pd.read_excel('AirFranceInternetMarketing.xlsx')"
   ]
  },
  {
   "cell_type": "code",
   "execution_count": 3,
   "metadata": {
    "scrolled": true
   },
   "outputs": [
    {
     "data": {
      "text/plain": [
       "array(['Publisher ID', 'Publisher Name', 'Keyword ID', 'Keyword',\n",
       "       'Match Type', 'Campaign', 'Keyword Group', 'Category',\n",
       "       'Bid Strategy', 'Keyword Type', 'Status', 'Search Engine Bid',\n",
       "       'Clicks', 'Click Charges', 'Avg. Cost per Click', 'Impressions',\n",
       "       'Engine Click Thru %', 'Avg. Pos.', 'Trans. Conv. %',\n",
       "       'Total Cost/ Trans.', 'Amount', 'Total Cost',\n",
       "       'Total Volume of Bookings'], dtype=object)"
      ]
     },
     "execution_count": 3,
     "metadata": {},
     "output_type": "execute_result"
    }
   ],
   "source": [
    "# Checking the columns for our datafarme\n",
    "AirFrance_df.columns.values"
   ]
  },
  {
   "cell_type": "code",
   "execution_count": 4,
   "metadata": {},
   "outputs": [
    {
     "name": "stdout",
     "output_type": "stream",
     "text": [
      "(4510, 23)\n"
     ]
    }
   ],
   "source": [
    "print (AirFrance_df.shape)"
   ]
  },
  {
   "cell_type": "code",
   "execution_count": 5,
   "metadata": {},
   "outputs": [
    {
     "name": "stdout",
     "output_type": "stream",
     "text": [
      "<class 'pandas.core.frame.DataFrame'>\n",
      "RangeIndex: 4510 entries, 0 to 4509\n",
      "Data columns (total 23 columns):\n",
      "Publisher ID                4510 non-null object\n",
      "Publisher Name              4510 non-null object\n",
      "Keyword ID                  4510 non-null int64\n",
      "Keyword                     4510 non-null object\n",
      "Match Type                  4462 non-null object\n",
      "Campaign                    4510 non-null object\n",
      "Keyword Group               4510 non-null object\n",
      "Category                    4510 non-null object\n",
      "Bid Strategy                3286 non-null object\n",
      "Keyword Type                4510 non-null object\n",
      "Status                      4510 non-null object\n",
      "Search Engine Bid           4510 non-null float64\n",
      "Clicks                      4510 non-null int64\n",
      "Click Charges               4510 non-null float64\n",
      "Avg. Cost per Click         4510 non-null float64\n",
      "Impressions                 4510 non-null int64\n",
      "Engine Click Thru %         4510 non-null float64\n",
      "Avg. Pos.                   4510 non-null float64\n",
      "Trans. Conv. %              4510 non-null float64\n",
      "Total Cost/ Trans.          4510 non-null float64\n",
      "Amount                      4510 non-null float64\n",
      "Total Cost                  4510 non-null float64\n",
      "Total Volume of Bookings    4510 non-null int64\n",
      "dtypes: float64(9), int64(4), object(10)\n",
      "memory usage: 810.5+ KB\n"
     ]
    }
   ],
   "source": [
    "AirFrance_df.info()"
   ]
  },
  {
   "cell_type": "code",
   "execution_count": 6,
   "metadata": {},
   "outputs": [
    {
     "data": {
      "text/html": [
       "<div>\n",
       "<style scoped>\n",
       "    .dataframe tbody tr th:only-of-type {\n",
       "        vertical-align: middle;\n",
       "    }\n",
       "\n",
       "    .dataframe tbody tr th {\n",
       "        vertical-align: top;\n",
       "    }\n",
       "\n",
       "    .dataframe thead th {\n",
       "        text-align: right;\n",
       "    }\n",
       "</style>\n",
       "<table border=\"1\" class=\"dataframe\">\n",
       "  <thead>\n",
       "    <tr style=\"text-align: right;\">\n",
       "      <th></th>\n",
       "      <th>Publisher ID</th>\n",
       "      <th>Publisher Name</th>\n",
       "      <th>Keyword ID</th>\n",
       "      <th>Keyword</th>\n",
       "      <th>Match Type</th>\n",
       "      <th>Campaign</th>\n",
       "      <th>Keyword Group</th>\n",
       "      <th>Category</th>\n",
       "      <th>Bid Strategy</th>\n",
       "      <th>Keyword Type</th>\n",
       "      <th>...</th>\n",
       "      <th>Click Charges</th>\n",
       "      <th>Avg. Cost per Click</th>\n",
       "      <th>Impressions</th>\n",
       "      <th>Engine Click Thru %</th>\n",
       "      <th>Avg. Pos.</th>\n",
       "      <th>Trans. Conv. %</th>\n",
       "      <th>Total Cost/ Trans.</th>\n",
       "      <th>Amount</th>\n",
       "      <th>Total Cost</th>\n",
       "      <th>Total Volume of Bookings</th>\n",
       "    </tr>\n",
       "  </thead>\n",
       "  <tbody>\n",
       "    <tr>\n",
       "      <th>0</th>\n",
       "      <td>K2615</td>\n",
       "      <td>Yahoo - US</td>\n",
       "      <td>43000000039657988</td>\n",
       "      <td>fly to florence</td>\n",
       "      <td>Advanced</td>\n",
       "      <td>Western Europe Destinations</td>\n",
       "      <td>Florence</td>\n",
       "      <td>uncategorized</td>\n",
       "      <td>NaN</td>\n",
       "      <td>Unassigned</td>\n",
       "      <td>...</td>\n",
       "      <td>2.3125</td>\n",
       "      <td>2.312500</td>\n",
       "      <td>11</td>\n",
       "      <td>9.090909</td>\n",
       "      <td>1.272727</td>\n",
       "      <td>900.000000</td>\n",
       "      <td>0.256944</td>\n",
       "      <td>8777.95</td>\n",
       "      <td>2.3125</td>\n",
       "      <td>9</td>\n",
       "    </tr>\n",
       "    <tr>\n",
       "      <th>1</th>\n",
       "      <td>K2615</td>\n",
       "      <td>Yahoo - US</td>\n",
       "      <td>43000000039651113</td>\n",
       "      <td>low international airfare</td>\n",
       "      <td>Advanced</td>\n",
       "      <td>Geo Targeted DC</td>\n",
       "      <td>Low International DC</td>\n",
       "      <td>uncategorized</td>\n",
       "      <td>NaN</td>\n",
       "      <td>Unassigned</td>\n",
       "      <td>...</td>\n",
       "      <td>0.6250</td>\n",
       "      <td>0.625000</td>\n",
       "      <td>6</td>\n",
       "      <td>16.666667</td>\n",
       "      <td>1.000000</td>\n",
       "      <td>100.000000</td>\n",
       "      <td>0.625000</td>\n",
       "      <td>1574.20</td>\n",
       "      <td>0.6250</td>\n",
       "      <td>1</td>\n",
       "    </tr>\n",
       "    <tr>\n",
       "      <th>2</th>\n",
       "      <td>K2003</td>\n",
       "      <td>MSN - Global</td>\n",
       "      <td>43000000019452431</td>\n",
       "      <td>air discount france ticket</td>\n",
       "      <td>Broad</td>\n",
       "      <td>Air France Brand &amp; French Destinations</td>\n",
       "      <td>France</td>\n",
       "      <td>uncategorized</td>\n",
       "      <td>Position 2-5 Bid Strategy</td>\n",
       "      <td>Unassigned</td>\n",
       "      <td>...</td>\n",
       "      <td>0.3875</td>\n",
       "      <td>0.387500</td>\n",
       "      <td>9</td>\n",
       "      <td>11.111111</td>\n",
       "      <td>1.111111</td>\n",
       "      <td>100.000000</td>\n",
       "      <td>0.387500</td>\n",
       "      <td>390.15</td>\n",
       "      <td>0.3875</td>\n",
       "      <td>1</td>\n",
       "    </tr>\n",
       "    <tr>\n",
       "      <th>3</th>\n",
       "      <td>K1175</td>\n",
       "      <td>Google - Global</td>\n",
       "      <td>43000000005663331</td>\n",
       "      <td>[airfrance]</td>\n",
       "      <td>Exact</td>\n",
       "      <td>Air France Global Campaign</td>\n",
       "      <td>Air France</td>\n",
       "      <td>airfrance</td>\n",
       "      <td>Position 1- 3</td>\n",
       "      <td>Unassigned</td>\n",
       "      <td>...</td>\n",
       "      <td>2.3125</td>\n",
       "      <td>0.039195</td>\n",
       "      <td>401</td>\n",
       "      <td>14.713217</td>\n",
       "      <td>2.000000</td>\n",
       "      <td>3.389831</td>\n",
       "      <td>1.156250</td>\n",
       "      <td>1665.15</td>\n",
       "      <td>2.3125</td>\n",
       "      <td>2</td>\n",
       "    </tr>\n",
       "    <tr>\n",
       "      <th>4</th>\n",
       "      <td>K1123</td>\n",
       "      <td>Overture - Global</td>\n",
       "      <td>43000000005421354</td>\n",
       "      <td>air france online booking</td>\n",
       "      <td>Standard</td>\n",
       "      <td>Unassigned</td>\n",
       "      <td>Unassigned</td>\n",
       "      <td>airfrance</td>\n",
       "      <td>Position 1-2 Target</td>\n",
       "      <td>Unassigned</td>\n",
       "      <td>...</td>\n",
       "      <td>2.2000</td>\n",
       "      <td>0.275000</td>\n",
       "      <td>318</td>\n",
       "      <td>2.515723</td>\n",
       "      <td>2.975786</td>\n",
       "      <td>12.500000</td>\n",
       "      <td>2.200000</td>\n",
       "      <td>935.00</td>\n",
       "      <td>2.2000</td>\n",
       "      <td>1</td>\n",
       "    </tr>\n",
       "  </tbody>\n",
       "</table>\n",
       "<p>5 rows × 23 columns</p>\n",
       "</div>"
      ],
      "text/plain": [
       "  Publisher ID     Publisher Name         Keyword ID  \\\n",
       "0        K2615         Yahoo - US  43000000039657988   \n",
       "1        K2615         Yahoo - US  43000000039651113   \n",
       "2        K2003       MSN - Global  43000000019452431   \n",
       "3        K1175    Google - Global  43000000005663331   \n",
       "4        K1123  Overture - Global  43000000005421354   \n",
       "\n",
       "                      Keyword Match Type  \\\n",
       "0             fly to florence   Advanced   \n",
       "1   low international airfare   Advanced   \n",
       "2  air discount france ticket      Broad   \n",
       "3                 [airfrance]      Exact   \n",
       "4   air france online booking   Standard   \n",
       "\n",
       "                                 Campaign         Keyword Group  \\\n",
       "0             Western Europe Destinations              Florence   \n",
       "1                         Geo Targeted DC  Low International DC   \n",
       "2  Air France Brand & French Destinations                France   \n",
       "3              Air France Global Campaign            Air France   \n",
       "4                              Unassigned            Unassigned   \n",
       "\n",
       "        Category               Bid Strategy Keyword Type  ... Click Charges  \\\n",
       "0  uncategorized                        NaN   Unassigned  ...        2.3125   \n",
       "1  uncategorized                        NaN   Unassigned  ...        0.6250   \n",
       "2  uncategorized  Position 2-5 Bid Strategy   Unassigned  ...        0.3875   \n",
       "3      airfrance              Position 1- 3   Unassigned  ...        2.3125   \n",
       "4      airfrance        Position 1-2 Target   Unassigned  ...        2.2000   \n",
       "\n",
       "   Avg. Cost per Click  Impressions  Engine Click Thru %  Avg. Pos.  \\\n",
       "0             2.312500           11             9.090909   1.272727   \n",
       "1             0.625000            6            16.666667   1.000000   \n",
       "2             0.387500            9            11.111111   1.111111   \n",
       "3             0.039195          401            14.713217   2.000000   \n",
       "4             0.275000          318             2.515723   2.975786   \n",
       "\n",
       "   Trans. Conv. %  Total Cost/ Trans.   Amount  Total Cost  \\\n",
       "0      900.000000            0.256944  8777.95      2.3125   \n",
       "1      100.000000            0.625000  1574.20      0.6250   \n",
       "2      100.000000            0.387500   390.15      0.3875   \n",
       "3        3.389831            1.156250  1665.15      2.3125   \n",
       "4       12.500000            2.200000   935.00      2.2000   \n",
       "\n",
       "   Total Volume of Bookings  \n",
       "0                         9  \n",
       "1                         1  \n",
       "2                         1  \n",
       "3                         2  \n",
       "4                         1  \n",
       "\n",
       "[5 rows x 23 columns]"
      ]
     },
     "execution_count": 6,
     "metadata": {},
     "output_type": "execute_result"
    }
   ],
   "source": [
    "AirFrance_df.head()"
   ]
  },
  {
   "cell_type": "markdown",
   "metadata": {},
   "source": [
    "## 1.Please add four additional metrics into your data using the formula provided \n"
   ]
  },
  {
   "cell_type": "markdown",
   "metadata": {},
   "source": [
    "### a) Net Revenue (Amount (total revenue) – Total Cost))"
   ]
  },
  {
   "cell_type": "code",
   "execution_count": 7,
   "metadata": {},
   "outputs": [],
   "source": [
    "AirFrance_df['Net Revenue'] = ( AirFrance_df['Amount'] - AirFrance_df['Total Cost'])"
   ]
  },
  {
   "cell_type": "markdown",
   "metadata": {},
   "source": [
    "### b) Return on Ad Spent (ROA) (Net Revenue / Total Cost) (Note: Set this variable as percentage; if Total Cost is 0, then set ROA as 0 for that observation.)"
   ]
  },
  {
   "cell_type": "code",
   "execution_count": 8,
   "metadata": {},
   "outputs": [],
   "source": [
    "AirFrance_df['ROA'] = (AirFrance_df['Net Revenue']/AirFrance_df['Total Cost'])\n",
    "AirFrance_df['ROA'] = AirFrance_df['ROA'].replace([np.inf, -np.inf], 0) * 100"
   ]
  },
  {
   "cell_type": "markdown",
   "metadata": {},
   "source": [
    "### c)  Average Revenue per Booking (Amount /Total Volume of Bookings) (Note: if Total Volume of Bookings is 0, then set null value for that observation)"
   ]
  },
  {
   "cell_type": "code",
   "execution_count": 9,
   "metadata": {},
   "outputs": [],
   "source": [
    "AirFrance_df['Average Revenue per Booking'] = np.where (AirFrance_df['Total Volume of Bookings'] ==0 ,np.nan, AirFrance_df['Amount']/AirFrance_df['Total Volume of Bookings'])\n"
   ]
  },
  {
   "cell_type": "markdown",
   "metadata": {},
   "source": [
    "### d)  Probability of Booking (Engine Click Thru % (CTR) * Trans. Conv. % (TCR) / 10000)"
   ]
  },
  {
   "cell_type": "code",
   "execution_count": 10,
   "metadata": {},
   "outputs": [],
   "source": [
    "AirFrance_df['Probability of Booking'] = (AirFrance_df['Engine Click Thru %']*AirFrance_df['Trans. Conv. %']/10000)"
   ]
  },
  {
   "cell_type": "code",
   "execution_count": 11,
   "metadata": {},
   "outputs": [
    {
     "data": {
      "text/html": [
       "<div>\n",
       "<style scoped>\n",
       "    .dataframe tbody tr th:only-of-type {\n",
       "        vertical-align: middle;\n",
       "    }\n",
       "\n",
       "    .dataframe tbody tr th {\n",
       "        vertical-align: top;\n",
       "    }\n",
       "\n",
       "    .dataframe thead th {\n",
       "        text-align: right;\n",
       "    }\n",
       "</style>\n",
       "<table border=\"1\" class=\"dataframe\">\n",
       "  <thead>\n",
       "    <tr style=\"text-align: right;\">\n",
       "      <th></th>\n",
       "      <th>Publisher ID</th>\n",
       "      <th>Publisher Name</th>\n",
       "      <th>Keyword ID</th>\n",
       "      <th>Keyword</th>\n",
       "      <th>Match Type</th>\n",
       "      <th>Campaign</th>\n",
       "      <th>Keyword Group</th>\n",
       "      <th>Category</th>\n",
       "      <th>Bid Strategy</th>\n",
       "      <th>Keyword Type</th>\n",
       "      <th>...</th>\n",
       "      <th>Avg. Pos.</th>\n",
       "      <th>Trans. Conv. %</th>\n",
       "      <th>Total Cost/ Trans.</th>\n",
       "      <th>Amount</th>\n",
       "      <th>Total Cost</th>\n",
       "      <th>Total Volume of Bookings</th>\n",
       "      <th>Net Revenue</th>\n",
       "      <th>ROA</th>\n",
       "      <th>Average Revenue per Booking</th>\n",
       "      <th>Probability of Booking</th>\n",
       "    </tr>\n",
       "  </thead>\n",
       "  <tbody>\n",
       "    <tr>\n",
       "      <th>0</th>\n",
       "      <td>K2615</td>\n",
       "      <td>Yahoo - US</td>\n",
       "      <td>43000000039657988</td>\n",
       "      <td>fly to florence</td>\n",
       "      <td>Advanced</td>\n",
       "      <td>Western Europe Destinations</td>\n",
       "      <td>Florence</td>\n",
       "      <td>uncategorized</td>\n",
       "      <td>NaN</td>\n",
       "      <td>Unassigned</td>\n",
       "      <td>...</td>\n",
       "      <td>1.272727</td>\n",
       "      <td>900.000000</td>\n",
       "      <td>0.256944</td>\n",
       "      <td>8777.95</td>\n",
       "      <td>2.3125</td>\n",
       "      <td>9</td>\n",
       "      <td>8775.6375</td>\n",
       "      <td>379487.027027</td>\n",
       "      <td>975.327778</td>\n",
       "      <td>0.818182</td>\n",
       "    </tr>\n",
       "    <tr>\n",
       "      <th>1</th>\n",
       "      <td>K2615</td>\n",
       "      <td>Yahoo - US</td>\n",
       "      <td>43000000039651113</td>\n",
       "      <td>low international airfare</td>\n",
       "      <td>Advanced</td>\n",
       "      <td>Geo Targeted DC</td>\n",
       "      <td>Low International DC</td>\n",
       "      <td>uncategorized</td>\n",
       "      <td>NaN</td>\n",
       "      <td>Unassigned</td>\n",
       "      <td>...</td>\n",
       "      <td>1.000000</td>\n",
       "      <td>100.000000</td>\n",
       "      <td>0.625000</td>\n",
       "      <td>1574.20</td>\n",
       "      <td>0.6250</td>\n",
       "      <td>1</td>\n",
       "      <td>1573.5750</td>\n",
       "      <td>251772.000000</td>\n",
       "      <td>1574.200000</td>\n",
       "      <td>0.166667</td>\n",
       "    </tr>\n",
       "    <tr>\n",
       "      <th>2</th>\n",
       "      <td>K2003</td>\n",
       "      <td>MSN - Global</td>\n",
       "      <td>43000000019452431</td>\n",
       "      <td>air discount france ticket</td>\n",
       "      <td>Broad</td>\n",
       "      <td>Air France Brand &amp; French Destinations</td>\n",
       "      <td>France</td>\n",
       "      <td>uncategorized</td>\n",
       "      <td>Position 2-5 Bid Strategy</td>\n",
       "      <td>Unassigned</td>\n",
       "      <td>...</td>\n",
       "      <td>1.111111</td>\n",
       "      <td>100.000000</td>\n",
       "      <td>0.387500</td>\n",
       "      <td>390.15</td>\n",
       "      <td>0.3875</td>\n",
       "      <td>1</td>\n",
       "      <td>389.7625</td>\n",
       "      <td>100583.870968</td>\n",
       "      <td>390.150000</td>\n",
       "      <td>0.111111</td>\n",
       "    </tr>\n",
       "    <tr>\n",
       "      <th>3</th>\n",
       "      <td>K1175</td>\n",
       "      <td>Google - Global</td>\n",
       "      <td>43000000005663331</td>\n",
       "      <td>[airfrance]</td>\n",
       "      <td>Exact</td>\n",
       "      <td>Air France Global Campaign</td>\n",
       "      <td>Air France</td>\n",
       "      <td>airfrance</td>\n",
       "      <td>Position 1- 3</td>\n",
       "      <td>Unassigned</td>\n",
       "      <td>...</td>\n",
       "      <td>2.000000</td>\n",
       "      <td>3.389831</td>\n",
       "      <td>1.156250</td>\n",
       "      <td>1665.15</td>\n",
       "      <td>2.3125</td>\n",
       "      <td>2</td>\n",
       "      <td>1662.8375</td>\n",
       "      <td>71906.491546</td>\n",
       "      <td>832.575000</td>\n",
       "      <td>0.004988</td>\n",
       "    </tr>\n",
       "    <tr>\n",
       "      <th>4</th>\n",
       "      <td>K1123</td>\n",
       "      <td>Overture - Global</td>\n",
       "      <td>43000000005421354</td>\n",
       "      <td>air france online booking</td>\n",
       "      <td>Standard</td>\n",
       "      <td>Unassigned</td>\n",
       "      <td>Unassigned</td>\n",
       "      <td>airfrance</td>\n",
       "      <td>Position 1-2 Target</td>\n",
       "      <td>Unassigned</td>\n",
       "      <td>...</td>\n",
       "      <td>2.975786</td>\n",
       "      <td>12.500000</td>\n",
       "      <td>2.200000</td>\n",
       "      <td>935.00</td>\n",
       "      <td>2.2000</td>\n",
       "      <td>1</td>\n",
       "      <td>932.8000</td>\n",
       "      <td>42400.000000</td>\n",
       "      <td>935.000000</td>\n",
       "      <td>0.003145</td>\n",
       "    </tr>\n",
       "  </tbody>\n",
       "</table>\n",
       "<p>5 rows × 27 columns</p>\n",
       "</div>"
      ],
      "text/plain": [
       "  Publisher ID     Publisher Name         Keyword ID  \\\n",
       "0        K2615         Yahoo - US  43000000039657988   \n",
       "1        K2615         Yahoo - US  43000000039651113   \n",
       "2        K2003       MSN - Global  43000000019452431   \n",
       "3        K1175    Google - Global  43000000005663331   \n",
       "4        K1123  Overture - Global  43000000005421354   \n",
       "\n",
       "                      Keyword Match Type  \\\n",
       "0             fly to florence   Advanced   \n",
       "1   low international airfare   Advanced   \n",
       "2  air discount france ticket      Broad   \n",
       "3                 [airfrance]      Exact   \n",
       "4   air france online booking   Standard   \n",
       "\n",
       "                                 Campaign         Keyword Group  \\\n",
       "0             Western Europe Destinations              Florence   \n",
       "1                         Geo Targeted DC  Low International DC   \n",
       "2  Air France Brand & French Destinations                France   \n",
       "3              Air France Global Campaign            Air France   \n",
       "4                              Unassigned            Unassigned   \n",
       "\n",
       "        Category               Bid Strategy Keyword Type  ... Avg. Pos.  \\\n",
       "0  uncategorized                        NaN   Unassigned  ...  1.272727   \n",
       "1  uncategorized                        NaN   Unassigned  ...  1.000000   \n",
       "2  uncategorized  Position 2-5 Bid Strategy   Unassigned  ...  1.111111   \n",
       "3      airfrance              Position 1- 3   Unassigned  ...  2.000000   \n",
       "4      airfrance        Position 1-2 Target   Unassigned  ...  2.975786   \n",
       "\n",
       "   Trans. Conv. %  Total Cost/ Trans.   Amount  Total Cost  \\\n",
       "0      900.000000            0.256944  8777.95      2.3125   \n",
       "1      100.000000            0.625000  1574.20      0.6250   \n",
       "2      100.000000            0.387500   390.15      0.3875   \n",
       "3        3.389831            1.156250  1665.15      2.3125   \n",
       "4       12.500000            2.200000   935.00      2.2000   \n",
       "\n",
       "   Total Volume of Bookings  Net Revenue            ROA  \\\n",
       "0                         9    8775.6375  379487.027027   \n",
       "1                         1    1573.5750  251772.000000   \n",
       "2                         1     389.7625  100583.870968   \n",
       "3                         2    1662.8375   71906.491546   \n",
       "4                         1     932.8000   42400.000000   \n",
       "\n",
       "   Average Revenue per Booking  Probability of Booking  \n",
       "0                   975.327778                0.818182  \n",
       "1                  1574.200000                0.166667  \n",
       "2                   390.150000                0.111111  \n",
       "3                   832.575000                0.004988  \n",
       "4                   935.000000                0.003145  \n",
       "\n",
       "[5 rows x 27 columns]"
      ]
     },
     "execution_count": 11,
     "metadata": {},
     "output_type": "execute_result"
    }
   ],
   "source": [
    "AirFrance_df.head()"
   ]
  },
  {
   "cell_type": "code",
   "execution_count": 12,
   "metadata": {},
   "outputs": [
    {
     "data": {
      "text/plain": [
       "array(['Publisher ID', 'Publisher Name', 'Keyword ID', 'Keyword',\n",
       "       'Match Type', 'Campaign', 'Keyword Group', 'Category',\n",
       "       'Bid Strategy', 'Keyword Type', 'Status', 'Search Engine Bid',\n",
       "       'Clicks', 'Click Charges', 'Avg. Cost per Click', 'Impressions',\n",
       "       'Engine Click Thru %', 'Avg. Pos.', 'Trans. Conv. %',\n",
       "       'Total Cost/ Trans.', 'Amount', 'Total Cost',\n",
       "       'Total Volume of Bookings', 'Net Revenue', 'ROA',\n",
       "       'Average Revenue per Booking', 'Probability of Booking'],\n",
       "      dtype=object)"
      ]
     },
     "execution_count": 12,
     "metadata": {},
     "output_type": "execute_result"
    }
   ],
   "source": [
    "AirFrance_df.columns.values"
   ]
  },
  {
   "cell_type": "code",
   "execution_count": 13,
   "metadata": {},
   "outputs": [],
   "source": [
    "## Importing my datafarme to excel file to cross validate the above Coloumns created \n",
    "#df2 = AirFrance_df.copy()\n",
    "#with pd.ExcelWriter('ExcelAirFrance.xlsx') as writer:  \n",
    "    #AirFrance_df.to_excel(writer, sheet_name='Sheet_name_1')\n",
    "    #df2.to_excel(writer, sheet_name='Sheet_name_2')"
   ]
  },
  {
   "cell_type": "markdown",
   "metadata": {},
   "source": [
    "### Please provide descriptive statistics (Count, Max, Min, Mean, and Std.) for variables (CTR, TCR, Net Revenue, Avg. Cost per Click, ROA, Average Revenue per Booking, Probability of Booking). Please report a summary statistics table and provide short descriptions of your observations and thoughts."
   ]
  },
  {
   "cell_type": "code",
   "execution_count": 14,
   "metadata": {},
   "outputs": [
    {
     "data": {
      "text/html": [
       "<div>\n",
       "<style scoped>\n",
       "    .dataframe tbody tr th:only-of-type {\n",
       "        vertical-align: middle;\n",
       "    }\n",
       "\n",
       "    .dataframe tbody tr th {\n",
       "        vertical-align: top;\n",
       "    }\n",
       "\n",
       "    .dataframe thead th {\n",
       "        text-align: right;\n",
       "    }\n",
       "</style>\n",
       "<table border=\"1\" class=\"dataframe\">\n",
       "  <thead>\n",
       "    <tr style=\"text-align: right;\">\n",
       "      <th></th>\n",
       "      <th>Engine Click Thru %</th>\n",
       "      <th>Trans. Conv. %</th>\n",
       "      <th>Net Revenue</th>\n",
       "      <th>Avg. Cost per Click</th>\n",
       "      <th>ROA</th>\n",
       "      <th>Average Revenue per Booking</th>\n",
       "      <th>Probability of Booking</th>\n",
       "    </tr>\n",
       "  </thead>\n",
       "  <tbody>\n",
       "    <tr>\n",
       "      <th>count</th>\n",
       "      <td>4510.000000</td>\n",
       "      <td>4510.000000</td>\n",
       "      <td>4510.000000</td>\n",
       "      <td>4510.000000</td>\n",
       "      <td>4510.000000</td>\n",
       "      <td>368.000000</td>\n",
       "      <td>4510.000000</td>\n",
       "    </tr>\n",
       "    <tr>\n",
       "      <th>max</th>\n",
       "      <td>200.000000</td>\n",
       "      <td>900.000000</td>\n",
       "      <td>549524.050273</td>\n",
       "      <td>10.000000</td>\n",
       "      <td>379487.027027</td>\n",
       "      <td>5877.750000</td>\n",
       "      <td>0.818182</td>\n",
       "    </tr>\n",
       "    <tr>\n",
       "      <th>min</th>\n",
       "      <td>0.000000</td>\n",
       "      <td>0.000000</td>\n",
       "      <td>-8725.924987</td>\n",
       "      <td>0.000000</td>\n",
       "      <td>-100.000000</td>\n",
       "      <td>34.000000</td>\n",
       "      <td>0.000000</td>\n",
       "    </tr>\n",
       "    <tr>\n",
       "      <th>mean</th>\n",
       "      <td>11.141451</td>\n",
       "      <td>0.569255</td>\n",
       "      <td>866.207678</td>\n",
       "      <td>1.890240</td>\n",
       "      <td>341.413864</td>\n",
       "      <td>1024.259502</td>\n",
       "      <td>0.000681</td>\n",
       "    </tr>\n",
       "    <tr>\n",
       "      <th>std</th>\n",
       "      <td>20.234582</td>\n",
       "      <td>13.862485</td>\n",
       "      <td>14246.298903</td>\n",
       "      <td>1.322375</td>\n",
       "      <td>7277.915278</td>\n",
       "      <td>704.318741</td>\n",
       "      <td>0.015151</td>\n",
       "    </tr>\n",
       "  </tbody>\n",
       "</table>\n",
       "</div>"
      ],
      "text/plain": [
       "       Engine Click Thru %  Trans. Conv. %    Net Revenue  \\\n",
       "count          4510.000000     4510.000000    4510.000000   \n",
       "max             200.000000      900.000000  549524.050273   \n",
       "min               0.000000        0.000000   -8725.924987   \n",
       "mean             11.141451        0.569255     866.207678   \n",
       "std              20.234582       13.862485   14246.298903   \n",
       "\n",
       "       Avg. Cost per Click            ROA  Average Revenue per Booking  \\\n",
       "count          4510.000000    4510.000000                   368.000000   \n",
       "max              10.000000  379487.027027                  5877.750000   \n",
       "min               0.000000    -100.000000                    34.000000   \n",
       "mean              1.890240     341.413864                  1024.259502   \n",
       "std               1.322375    7277.915278                   704.318741   \n",
       "\n",
       "       Probability of Booking  \n",
       "count             4510.000000  \n",
       "max                  0.818182  \n",
       "min                  0.000000  \n",
       "mean                 0.000681  \n",
       "std                  0.015151  "
      ]
     },
     "execution_count": 14,
     "metadata": {},
     "output_type": "execute_result"
    }
   ],
   "source": [
    "AirFrance_df[['Engine Click Thru %','Trans. Conv. %','Net Revenue','Avg. Cost per Click','ROA','Average Revenue per Booking','Probability of Booking']].agg(['count','max','min','mean','std'])"
   ]
  },
  {
   "cell_type": "markdown",
   "metadata": {},
   "source": [
    "\n"
   ]
  },
  {
   "cell_type": "markdown",
   "metadata": {},
   "source": [
    "### Observation: \n",
    "\n",
    "•\tThe above summary table is showing the summary statistics (N, Max, Min, Mean, and Std.) for variables: Engine Click Thru %, Trans. Conv. %, Net Revenue, Avg. Cost per Click, ROA, Average Revenue per Booking, Probability of Booking.\n",
    "\n",
    "•\tThe count indicates the number of observations in the AirFrance_df dataset. Here, total of 4510 observation are available.\n",
    "\n",
    "•\tThe average of all variables is shown as the mean in the below table.\n",
    "\n",
    "•\tThe standard deviation shows how the numbers are spread out from the mean (average) value. Here, Probability of Booking have low standard deviation, Hence the data is closer to the mean value. \n",
    "\n",
    "•\tEngine Click Thru % --Its ratio showing how often people who see your ad end up clicking it, the mean value for Engine Click Thru % is 11.14 which is a good indication that users find your ads helpful and relevant. \n",
    "\n",
    "•\tTrans. Conv. % -- The transaction conversion rate shows that how manu clicks were converted into transactions. The mean Trans. Conv. % is 0.57 which is low.\n",
    "\n",
    "•\tNet Revenue -- The maximum amount of net revenue is 549524 and the minimum amount of net revenue is -8725.9 Net revenue is obtained by total revenue minus cost incurred. \n",
    "\n",
    "•\tAvg. Cost per Click -- It is calculated by dividing the total cost to an advitiser by the total number of clicks, it’s the amount that a website publisher receives when a paid advertisement on the site is clicked. Here the mean of Avg cost per click is 1.89$ and Maximum cost is 10$. \n",
    "\n",
    "•\tROA for return on ad spend. It's a calculation that divides the amount of revenue generated from ads by the amount spent on advertising. The goal of measuring ROA is to determine if the cost of advertising yields an acceptable amount of incoming business revenue. So, we have average ROA as 341% which is good.\n",
    "\n",
    "•\tAverage Revenue per Booking -- It is calculated by dividing the Amount by Total Volume of Bookings which is the revenue received for every booking. The mean value for this 83.57 \n",
    "\n",
    "•\tProbability of Booking --This shows the actual number of transactions took place after the views on the ad. Probability of Booking can be calculated by dividing the Engine Click Thru % Trans. Conv. %. The average value shows 0.000681 which is very low.\n"
   ]
  },
  {
   "cell_type": "markdown",
   "metadata": {},
   "source": [
    "### e)  Please make a Histogram for any of the variables of your own interests in the data. Then report any insights you may be able draw from the charts."
   ]
  },
  {
   "cell_type": "code",
   "execution_count": 15,
   "metadata": {},
   "outputs": [
    {
     "data": {
      "text/plain": [
       "<matplotlib.axes._subplots.AxesSubplot at 0x213954aec50>"
      ]
     },
     "execution_count": 15,
     "metadata": {},
     "output_type": "execute_result"
    },
    {
     "data": {
      "image/png": "[encoded data removed]",
      "text/plain": [
       "<Figure size 864x576 with 1 Axes>"
      ]
     },
     "metadata": {
      "needs_background": "light"
     },
     "output_type": "display_data"
    }
   ],
   "source": [
    "plt.figure(figsize=(12,8))\n",
    "sns.barplot(AirFrance_df[\"Publisher Name\"],y= AirFrance_df[\"Avg. Cost per Click\"])"
   ]
  },
  {
   "cell_type": "markdown",
   "metadata": {},
   "source": [
    "### •  Average Cost per Click (CPC) is based on actual cost-per-click (actual CPC), which is the actual amount you're charged for a click on your ad.\n",
    "\n",
    "### •  The above plot shows that which publisher charged more for Average Cost per Click, we can see that MSN-US charges the most and Overture-US charges the least."
   ]
  },
  {
   "cell_type": "code",
   "execution_count": 16,
   "metadata": {},
   "outputs": [
    {
     "data": {
      "text/plain": [
       "Campaign                                Keyword                                           \n",
       "Air France Brand & French Destinations  flight to paris                                       5\n",
       "Air France Branded                      airfrance                                             4\n",
       "Air France Brand & French Destinations  paris airports                                        3\n",
       "                                        paris france airport                                  3\n",
       "                                        paris flights                                         3\n",
       "                                        paris flight                                          3\n",
       "                                        paris fares                                           3\n",
       "                                        paris cheap tickets                                   3\n",
       "                                        paris cheap flights                                   3\n",
       "                                        paris airport                                         3\n",
       "                                        paris france travel                                   3\n",
       "                                        paris airlines                                        3\n",
       "                                        paris airline                                         3\n",
       "                                        paris airfares                                        3\n",
       "                                        paris airfare                                         3\n",
       "                                        nice flights                                          3\n",
       "                                        nice cheap flights                                    3\n",
       "                                        paris france tourism                                  3\n",
       "                                        paris tickets                                         3\n",
       "                                        french airlines                                       3\n",
       "                                        trip to paris                                         3\n",
       "Business Class                          business class travel                                 3\n",
       "                                        business class                                        3\n",
       "Air France Brand & French Destinations  visit paris                                           3\n",
       "                                        trips to paris                                        3\n",
       "                                        trips to france                                       3\n",
       "                                        trip to paris france                                  3\n",
       "                                        travel to nice                                        3\n",
       "                                        paris tourism                                         3\n",
       "                                        travel to france                                      3\n",
       "                                                                                             ..\n",
       "Google_Yearlong 2006                    turkey plane ticket                                   1\n",
       "                                        venice fare                                           1\n",
       "                                        venice flight                                         1\n",
       "Paris & France Terms                    air france paris flight                               1\n",
       "Outside Western Europe                  india flight                                          1\n",
       "Paris & France Terms                    air france flights to paris                           1\n",
       "                                        air france flight to paris                            1\n",
       "                                        air france fares paris                                1\n",
       "                                        air france fare paris                                 1\n",
       "                                        air france deals to paris                             1\n",
       "                                        air france cheap tickets paris                        1\n",
       "Outside Western Europe                  india vacations                                       1\n",
       "                                        india vacation                                        1\n",
       "                                        india travel                                          1\n",
       "                                        india flights                                         1\n",
       "                                        india flight deals                                    1\n",
       "                                        india cheap tickets                                   1\n",
       "Google_Yearlong 2006                    venice flights                                        1\n",
       "Outside Western Europe                  india cheap ticket                                    1\n",
       "                                        india cheap flights                                   1\n",
       "                                        india cheap flight                                    1\n",
       "                                        india cheap airfare                                   1\n",
       "                                        india airfare                                         1\n",
       "                                        fly to india                                          1\n",
       "                                        air france india flight                               1\n",
       "Google_Yearlong 2006                    warsow flights                                        1\n",
       "                                        venice travel                                         1\n",
       "                                        venice tickets                                        1\n",
       "                                        venice plane tickets                                  1\n",
       "                                        cont:google_yearlong 2006::google|flights relaunch    1\n",
       "Name: Keyword, Length: 3919, dtype: int64"
      ]
     },
     "execution_count": 16,
     "metadata": {},
     "output_type": "execute_result"
    }
   ],
   "source": [
    "AirFrance_df.groupby([\"Campaign\"])[\"Keyword\"].value_counts().sort_values(ascending=False)"
   ]
  },
  {
   "cell_type": "markdown",
   "metadata": {},
   "source": [
    "### •   From the above frequency count of keywords in a Campaign , we an infer that by removing low frequency keywords from campaign, can increase the overall value of search engine marketing.                    "
   ]
  },
  {
   "cell_type": "code",
   "execution_count": 17,
   "metadata": {},
   "outputs": [
    {
     "data": {
      "text/plain": [
       "<matplotlib.axes._subplots.AxesSubplot at 0x213976abcf8>"
      ]
     },
     "execution_count": 17,
     "metadata": {},
     "output_type": "execute_result"
    },
    {
     "data": {
      "image/png": "[encoded data removed]",
      "text/plain": [
       "<Figure size 432x288 with 1 Axes>"
      ]
     },
     "metadata": {
      "needs_background": "light"
     },
     "output_type": "display_data"
    }
   ],
   "source": [
    "sns.scatterplot(x=AirFrance_df[\"Avg. Pos.\"],y=AirFrance_df[\"Engine Click Thru %\"])"
   ]
  },
  {
   "cell_type": "markdown",
   "metadata": {},
   "source": [
    "### •\tAverage position is a statistic that describes how your ad typically ranks against other ads. This rank determines in which order ads appear on the page. Positions 1-8 generally appear on the first page while 9-16 on the second.\n",
    "### •\tFrom the above scatterplot, we can interfer that as Average position value increases, the engine click thru % will decrease. "
   ]
  },
  {
   "cell_type": "code",
   "execution_count": 18,
   "metadata": {},
   "outputs": [
    {
     "data": {
      "text/plain": [
       "<matplotlib.axes._subplots.AxesSubplot at 0x213976fb320>"
      ]
     },
     "execution_count": 18,
     "metadata": {},
     "output_type": "execute_result"
    },
    {
     "data": {
      "image/png": "[encoded data removed]",
      "text/plain": [
       "<Figure size 432x288 with 1 Axes>"
      ]
     },
     "metadata": {
      "needs_background": "light"
     },
     "output_type": "display_data"
    }
   ],
   "source": [
    "AirFrance_df.groupby([\"Keyword\"])[\"Search Engine Bid\"].mean().sort_values(ascending=False)[:5].plot.bar()"
   ]
  },
  {
   "cell_type": "code",
   "execution_count": 19,
   "metadata": {},
   "outputs": [
    {
     "data": {
      "text/plain": [
       "<matplotlib.axes._subplots.AxesSubplot at 0x21399acc080>"
      ]
     },
     "execution_count": 19,
     "metadata": {},
     "output_type": "execute_result"
    },
    {
     "data": {
      "image/png": "[encoded data removed]",
      "text/plain": [
       "<Figure size 432x288 with 1 Axes>"
      ]
     },
     "metadata": {
      "needs_background": "light"
     },
     "output_type": "display_data"
    }
   ],
   "source": [
    "AirFrance_df.groupby([\"Keyword\"])[\"ROA\"].mean().sort_values(ascending=False)[:5].plot.bar()"
   ]
  },
  {
   "cell_type": "code",
   "execution_count": 20,
   "metadata": {},
   "outputs": [
    {
     "data": {
      "text/plain": [
       "<matplotlib.axes._subplots.AxesSubplot at 0x21397691320>"
      ]
     },
     "execution_count": 20,
     "metadata": {},
     "output_type": "execute_result"
    },
    {
     "data": {
      "image/png": "[encoded data removed]",
      "text/plain": [
       "<Figure size 720x576 with 1 Axes>"
      ]
     },
     "metadata": {
      "needs_background": "light"
     },
     "output_type": "display_data"
    }
   ],
   "source": [
    "plt.figure(figsize=(10,8))\n",
    "sns.scatterplot(x=AirFrance_df[\"Total Cost/ Trans.\"],y=AirFrance_df[\"Total Volume of Bookings\"])"
   ]
  },
  {
   "cell_type": "markdown",
   "metadata": {},
   "source": [
    "# Exploratory Data Analysis and Data Cleaning "
   ]
  },
  {
   "cell_type": "code",
   "execution_count": 21,
   "metadata": {},
   "outputs": [
    {
     "data": {
      "text/plain": [
       "<matplotlib.axes._subplots.AxesSubplot at 0x21397760240>"
      ]
     },
     "execution_count": 21,
     "metadata": {},
     "output_type": "execute_result"
    },
    {
     "data": {
      "image/png": "[encoded data removed]",
      "text/plain": [
       "<Figure size 432x288 with 1 Axes>"
      ]
     },
     "metadata": {
      "needs_background": "light"
     },
     "output_type": "display_data"
    }
   ],
   "source": [
    "sns.heatmap(AirFrance_df.isnull(),yticklabels=False,cbar=False,cmap=\"viridis\")"
   ]
  },
  {
   "cell_type": "markdown",
   "metadata": {},
   "source": [
    "## In the above heatmap we can see that Matct Type , Bid Strategy ,Average Revenue per booking are having missing values. "
   ]
  },
  {
   "cell_type": "code",
   "execution_count": 22,
   "metadata": {},
   "outputs": [
    {
     "data": {
      "text/plain": [
       "Position 5-10 Bid Strategy    2208\n",
       "Position 2-5 Bid Strategy      333\n",
       "Position 1-2 Target            274\n",
       "Position 1- 3                  264\n",
       "Position 1-4 Bid Strategy      111\n",
       "Pos 3-6                         45\n",
       "Postiion 1-4 Bid Strategy       40\n",
       "Position 1 -2 Target            11\n",
       "Name: Bid Strategy, dtype: int64"
      ]
     },
     "execution_count": 22,
     "metadata": {},
     "output_type": "execute_result"
    }
   ],
   "source": [
    "AirFrance_df['Bid Strategy'].value_counts()"
   ]
  },
  {
   "cell_type": "code",
   "execution_count": 23,
   "metadata": {},
   "outputs": [
    {
     "data": {
      "text/plain": [
       "Broad       2591\n",
       "Advanced     969\n",
       "Standard     880\n",
       "Exact         22\n",
       "Name: Match Type, dtype: int64"
      ]
     },
     "execution_count": 23,
     "metadata": {},
     "output_type": "execute_result"
    }
   ],
   "source": [
    "AirFrance_df['Match Type'].value_counts()"
   ]
  },
  {
   "cell_type": "code",
   "execution_count": 24,
   "metadata": {},
   "outputs": [
    {
     "name": "stderr",
     "output_type": "stream",
     "text": [
      "C:\\Users\\monik\\Anaconda3\\lib\\site-packages\\numpy\\lib\\histograms.py:824: RuntimeWarning: invalid value encountered in greater_equal\n",
      "  keep = (tmp_a >= first_edge)\n",
      "C:\\Users\\monik\\Anaconda3\\lib\\site-packages\\numpy\\lib\\histograms.py:825: RuntimeWarning: invalid value encountered in less_equal\n",
      "  keep &= (tmp_a <= last_edge)\n",
      "C:\\Users\\monik\\Anaconda3\\lib\\site-packages\\statsmodels\\nonparametric\\kde.py:447: RuntimeWarning: invalid value encountered in greater\n",
      "  X = X[np.logical_and(X > clip[0], X < clip[1])] # won't work for two columns.\n",
      "C:\\Users\\monik\\Anaconda3\\lib\\site-packages\\statsmodels\\nonparametric\\kde.py:447: RuntimeWarning: invalid value encountered in less\n",
      "  X = X[np.logical_and(X > clip[0], X < clip[1])] # won't work for two columns.\n"
     ]
    },
    {
     "data": {
      "text/plain": [
       "<matplotlib.axes._subplots.AxesSubplot at 0x21397512588>"
      ]
     },
     "execution_count": 24,
     "metadata": {},
     "output_type": "execute_result"
    },
    {
     "data": {
      "image/png": "[encoded data removed]",
      "text/plain": [
       "<Figure size 720x360 with 1 Axes>"
      ]
     },
     "metadata": {
      "needs_background": "light"
     },
     "output_type": "display_data"
    }
   ],
   "source": [
    "plt.figure(figsize=(10,5))\n",
    "sns.distplot(AirFrance_df['Average Revenue per Booking'], bins = 25)"
   ]
  },
  {
   "cell_type": "markdown",
   "metadata": {},
   "source": [
    "# Imputing the missing values for the variables."
   ]
  },
  {
   "cell_type": "markdown",
   "metadata": {},
   "source": [
    "### As I have noticed in the above count values of Bid Strategy that maximum Bid Strategy is for “Position 5-10 Bid Strategy” as compared to others. So,  filling the null value of with Position 5-10 Bid Strategy"
   ]
  },
  {
   "cell_type": "code",
   "execution_count": 25,
   "metadata": {},
   "outputs": [],
   "source": [
    "AirFrance_df['Bid Strategy'] = AirFrance_df['Bid Strategy'].fillna('Position 5-10 Bid Strategy')"
   ]
  },
  {
   "cell_type": "markdown",
   "metadata": {},
   "source": [
    "### In the above count values of Match Type that maximum Match Type is for “Broad ” as compared to others. So, filling the null value of with Broad "
   ]
  },
  {
   "cell_type": "code",
   "execution_count": 26,
   "metadata": {},
   "outputs": [],
   "source": [
    "AirFrance_df['Match Type'] = AirFrance_df['Match Type'].fillna('Broad')"
   ]
  },
  {
   "cell_type": "markdown",
   "metadata": {},
   "source": [
    "### Average Revenue per Booking is calculated with (Amount /Total Volume of Bookings) and when Total Volume of Bookings is 0, we then set null value for that observation, so it better that we set null values to zero."
   ]
  },
  {
   "cell_type": "code",
   "execution_count": 27,
   "metadata": {},
   "outputs": [],
   "source": [
    "AirFrance_df['Average Revenue per Booking'] = AirFrance_df['Average Revenue per Booking'].fillna(0)"
   ]
  },
  {
   "cell_type": "code",
   "execution_count": 28,
   "metadata": {},
   "outputs": [
    {
     "data": {
      "text/plain": [
       "<matplotlib.axes._subplots.AxesSubplot at 0x2139766b198>"
      ]
     },
     "execution_count": 28,
     "metadata": {},
     "output_type": "execute_result"
    },
    {
     "data": {
      "image/png": "[encoded data removed]",
      "text/plain": [
       "<Figure size 432x288 with 1 Axes>"
      ]
     },
     "metadata": {
      "needs_background": "light"
     },
     "output_type": "display_data"
    }
   ],
   "source": [
    "sns.heatmap(AirFrance_df.isnull(),yticklabels=False,cbar=False,cmap=\"viridis\")"
   ]
  },
  {
   "cell_type": "markdown",
   "metadata": {},
   "source": [
    "### 2.  Please conduct regression analysis to study what factors influence the Total Cost. Basically, Total Cost is your dependent variable (Y) and your task is to determine what the important independent (explanatory) variables are. You should use the domain knowledge you have learnt from the case, personal experiences, and external research to guide your variable selections. You may try different set of independent variables in the data set to see which one(s) has significant results and thus support your belief (you may need to create dummy variables for some of the non-numerical variables). Please report 1) the final set of independent variables you have chosen and why you have chosen them; and 2) the estimated regression equation with simple explanations for each estimated coefficient (β) and its associated relationship (include significance, direction of the impact, magnitude of the impact, and justification of the identified relationship). (Hint: feel free to explore the data in any way you want, e.g. correlation matrix, scatter plots, etc.)"
   ]
  },
  {
   "cell_type": "code",
   "execution_count": 29,
   "metadata": {},
   "outputs": [
    {
     "data": {
      "text/html": [
       "<div>\n",
       "<style scoped>\n",
       "    .dataframe tbody tr th:only-of-type {\n",
       "        vertical-align: middle;\n",
       "    }\n",
       "\n",
       "    .dataframe tbody tr th {\n",
       "        vertical-align: top;\n",
       "    }\n",
       "\n",
       "    .dataframe thead th {\n",
       "        text-align: right;\n",
       "    }\n",
       "</style>\n",
       "<table border=\"1\" class=\"dataframe\">\n",
       "  <thead>\n",
       "    <tr style=\"text-align: right;\">\n",
       "      <th></th>\n",
       "      <th>Keyword ID</th>\n",
       "      <th>Search Engine Bid</th>\n",
       "      <th>Clicks</th>\n",
       "      <th>Click Charges</th>\n",
       "      <th>Avg. Cost per Click</th>\n",
       "      <th>Impressions</th>\n",
       "      <th>Engine Click Thru %</th>\n",
       "      <th>Avg. Pos.</th>\n",
       "      <th>Trans. Conv. %</th>\n",
       "      <th>Total Cost/ Trans.</th>\n",
       "      <th>Amount</th>\n",
       "      <th>Total Cost</th>\n",
       "      <th>Total Volume of Bookings</th>\n",
       "      <th>Net Revenue</th>\n",
       "      <th>ROA</th>\n",
       "      <th>Average Revenue per Booking</th>\n",
       "      <th>Probability of Booking</th>\n",
       "    </tr>\n",
       "  </thead>\n",
       "  <tbody>\n",
       "    <tr>\n",
       "      <th>Keyword ID</th>\n",
       "      <td>1.000000</td>\n",
       "      <td>0.093671</td>\n",
       "      <td>-0.025194</td>\n",
       "      <td>-0.031804</td>\n",
       "      <td>0.172528</td>\n",
       "      <td>-0.035015</td>\n",
       "      <td>0.180809</td>\n",
       "      <td>-0.080956</td>\n",
       "      <td>0.039276</td>\n",
       "      <td>-0.048383</td>\n",
       "      <td>0.005132</td>\n",
       "      <td>-0.031804</td>\n",
       "      <td>0.004136</td>\n",
       "      <td>0.008379</td>\n",
       "      <td>0.036019</td>\n",
       "      <td>-0.033330</td>\n",
       "      <td>0.032809</td>\n",
       "    </tr>\n",
       "    <tr>\n",
       "      <th>Search Engine Bid</th>\n",
       "      <td>0.093671</td>\n",
       "      <td>1.000000</td>\n",
       "      <td>0.114934</td>\n",
       "      <td>0.113212</td>\n",
       "      <td>0.280368</td>\n",
       "      <td>0.023738</td>\n",
       "      <td>0.147721</td>\n",
       "      <td>-0.267877</td>\n",
       "      <td>0.002874</td>\n",
       "      <td>0.039652</td>\n",
       "      <td>0.107165</td>\n",
       "      <td>0.113212</td>\n",
       "      <td>0.114730</td>\n",
       "      <td>0.101718</td>\n",
       "      <td>-0.005297</td>\n",
       "      <td>-0.009960</td>\n",
       "      <td>0.008993</td>\n",
       "    </tr>\n",
       "    <tr>\n",
       "      <th>Clicks</th>\n",
       "      <td>-0.025194</td>\n",
       "      <td>0.114934</td>\n",
       "      <td>1.000000</td>\n",
       "      <td>0.868330</td>\n",
       "      <td>-0.033787</td>\n",
       "      <td>0.400361</td>\n",
       "      <td>-0.014000</td>\n",
       "      <td>-0.021096</td>\n",
       "      <td>0.001533</td>\n",
       "      <td>0.192615</td>\n",
       "      <td>0.830764</td>\n",
       "      <td>0.868330</td>\n",
       "      <td>0.827187</td>\n",
       "      <td>0.789419</td>\n",
       "      <td>0.015593</td>\n",
       "      <td>0.283024</td>\n",
       "      <td>0.002635</td>\n",
       "    </tr>\n",
       "    <tr>\n",
       "      <th>Click Charges</th>\n",
       "      <td>-0.031804</td>\n",
       "      <td>0.113212</td>\n",
       "      <td>0.868330</td>\n",
       "      <td>1.000000</td>\n",
       "      <td>0.029171</td>\n",
       "      <td>0.431231</td>\n",
       "      <td>-0.027310</td>\n",
       "      <td>-0.018533</td>\n",
       "      <td>-0.000401</td>\n",
       "      <td>0.333614</td>\n",
       "      <td>0.549963</td>\n",
       "      <td>1.000000</td>\n",
       "      <td>0.539573</td>\n",
       "      <td>0.482530</td>\n",
       "      <td>0.003013</td>\n",
       "      <td>0.293301</td>\n",
       "      <td>-0.000769</td>\n",
       "    </tr>\n",
       "    <tr>\n",
       "      <th>Avg. Cost per Click</th>\n",
       "      <td>0.172528</td>\n",
       "      <td>0.280368</td>\n",
       "      <td>-0.033787</td>\n",
       "      <td>0.029171</td>\n",
       "      <td>1.000000</td>\n",
       "      <td>-0.016912</td>\n",
       "      <td>0.106898</td>\n",
       "      <td>-0.113344</td>\n",
       "      <td>0.003308</td>\n",
       "      <td>0.058178</td>\n",
       "      <td>-0.047568</td>\n",
       "      <td>0.029171</td>\n",
       "      <td>-0.048201</td>\n",
       "      <td>-0.052634</td>\n",
       "      <td>-0.033836</td>\n",
       "      <td>-0.046970</td>\n",
       "      <td>0.004340</td>\n",
       "    </tr>\n",
       "    <tr>\n",
       "      <th>Impressions</th>\n",
       "      <td>-0.035015</td>\n",
       "      <td>0.023738</td>\n",
       "      <td>0.400361</td>\n",
       "      <td>0.431231</td>\n",
       "      <td>-0.016912</td>\n",
       "      <td>1.000000</td>\n",
       "      <td>-0.026821</td>\n",
       "      <td>-0.005288</td>\n",
       "      <td>-0.001338</td>\n",
       "      <td>0.201258</td>\n",
       "      <td>0.104770</td>\n",
       "      <td>0.431231</td>\n",
       "      <td>0.092177</td>\n",
       "      <td>0.069241</td>\n",
       "      <td>-0.000827</td>\n",
       "      <td>0.160957</td>\n",
       "      <td>-0.002120</td>\n",
       "    </tr>\n",
       "    <tr>\n",
       "      <th>Engine Click Thru %</th>\n",
       "      <td>0.180809</td>\n",
       "      <td>0.147721</td>\n",
       "      <td>-0.014000</td>\n",
       "      <td>-0.027310</td>\n",
       "      <td>0.106898</td>\n",
       "      <td>-0.026821</td>\n",
       "      <td>1.000000</td>\n",
       "      <td>-0.221802</td>\n",
       "      <td>0.001666</td>\n",
       "      <td>-0.040646</td>\n",
       "      <td>0.008413</td>\n",
       "      <td>-0.027310</td>\n",
       "      <td>0.009194</td>\n",
       "      <td>0.011397</td>\n",
       "      <td>0.000861</td>\n",
       "      <td>-0.042343</td>\n",
       "      <td>0.028059</td>\n",
       "    </tr>\n",
       "    <tr>\n",
       "      <th>Avg. Pos.</th>\n",
       "      <td>-0.080956</td>\n",
       "      <td>-0.267877</td>\n",
       "      <td>-0.021096</td>\n",
       "      <td>-0.018533</td>\n",
       "      <td>-0.113344</td>\n",
       "      <td>-0.005288</td>\n",
       "      <td>-0.221802</td>\n",
       "      <td>1.000000</td>\n",
       "      <td>-0.013475</td>\n",
       "      <td>-0.012189</td>\n",
       "      <td>-0.030424</td>\n",
       "      <td>-0.018533</td>\n",
       "      <td>-0.031914</td>\n",
       "      <td>-0.030160</td>\n",
       "      <td>-0.024858</td>\n",
       "      <td>-0.046158</td>\n",
       "      <td>-0.024613</td>\n",
       "    </tr>\n",
       "    <tr>\n",
       "      <th>Trans. Conv. %</th>\n",
       "      <td>0.039276</td>\n",
       "      <td>0.002874</td>\n",
       "      <td>0.001533</td>\n",
       "      <td>-0.000401</td>\n",
       "      <td>0.003308</td>\n",
       "      <td>-0.001338</td>\n",
       "      <td>0.001666</td>\n",
       "      <td>-0.013475</td>\n",
       "      <td>1.000000</td>\n",
       "      <td>-0.000528</td>\n",
       "      <td>0.014417</td>\n",
       "      <td>-0.000401</td>\n",
       "      <td>0.017679</td>\n",
       "      <td>0.015157</td>\n",
       "      <td>0.856458</td>\n",
       "      <td>0.096467</td>\n",
       "      <td>0.889333</td>\n",
       "    </tr>\n",
       "    <tr>\n",
       "      <th>Total Cost/ Trans.</th>\n",
       "      <td>-0.048383</td>\n",
       "      <td>0.039652</td>\n",
       "      <td>0.192615</td>\n",
       "      <td>0.333614</td>\n",
       "      <td>0.058178</td>\n",
       "      <td>0.201258</td>\n",
       "      <td>-0.040646</td>\n",
       "      <td>-0.012189</td>\n",
       "      <td>-0.000528</td>\n",
       "      <td>1.000000</td>\n",
       "      <td>0.035870</td>\n",
       "      <td>0.333614</td>\n",
       "      <td>0.036950</td>\n",
       "      <td>0.006182</td>\n",
       "      <td>-0.002331</td>\n",
       "      <td>0.358445</td>\n",
       "      <td>-0.002432</td>\n",
       "    </tr>\n",
       "    <tr>\n",
       "      <th>Amount</th>\n",
       "      <td>0.005132</td>\n",
       "      <td>0.107165</td>\n",
       "      <td>0.830764</td>\n",
       "      <td>0.549963</td>\n",
       "      <td>-0.047568</td>\n",
       "      <td>0.104770</td>\n",
       "      <td>0.008413</td>\n",
       "      <td>-0.030424</td>\n",
       "      <td>0.014417</td>\n",
       "      <td>0.035870</td>\n",
       "      <td>1.000000</td>\n",
       "      <td>0.549963</td>\n",
       "      <td>0.994498</td>\n",
       "      <td>0.996899</td>\n",
       "      <td>0.037796</td>\n",
       "      <td>0.239587</td>\n",
       "      <td>0.015723</td>\n",
       "    </tr>\n",
       "    <tr>\n",
       "      <th>Total Cost</th>\n",
       "      <td>-0.031804</td>\n",
       "      <td>0.113212</td>\n",
       "      <td>0.868330</td>\n",
       "      <td>1.000000</td>\n",
       "      <td>0.029171</td>\n",
       "      <td>0.431231</td>\n",
       "      <td>-0.027310</td>\n",
       "      <td>-0.018533</td>\n",
       "      <td>-0.000401</td>\n",
       "      <td>0.333614</td>\n",
       "      <td>0.549963</td>\n",
       "      <td>1.000000</td>\n",
       "      <td>0.539573</td>\n",
       "      <td>0.482530</td>\n",
       "      <td>0.003013</td>\n",
       "      <td>0.293301</td>\n",
       "      <td>-0.000769</td>\n",
       "    </tr>\n",
       "    <tr>\n",
       "      <th>Total Volume of Bookings</th>\n",
       "      <td>0.004136</td>\n",
       "      <td>0.114730</td>\n",
       "      <td>0.827187</td>\n",
       "      <td>0.539573</td>\n",
       "      <td>-0.048201</td>\n",
       "      <td>0.092177</td>\n",
       "      <td>0.009194</td>\n",
       "      <td>-0.031914</td>\n",
       "      <td>0.017679</td>\n",
       "      <td>0.036950</td>\n",
       "      <td>0.994498</td>\n",
       "      <td>0.539573</td>\n",
       "      <td>1.000000</td>\n",
       "      <td>0.992108</td>\n",
       "      <td>0.039970</td>\n",
       "      <td>0.229896</td>\n",
       "      <td>0.018974</td>\n",
       "    </tr>\n",
       "    <tr>\n",
       "      <th>Net Revenue</th>\n",
       "      <td>0.008379</td>\n",
       "      <td>0.101718</td>\n",
       "      <td>0.789419</td>\n",
       "      <td>0.482530</td>\n",
       "      <td>-0.052634</td>\n",
       "      <td>0.069241</td>\n",
       "      <td>0.011397</td>\n",
       "      <td>-0.030160</td>\n",
       "      <td>0.015157</td>\n",
       "      <td>0.006182</td>\n",
       "      <td>0.996899</td>\n",
       "      <td>0.482530</td>\n",
       "      <td>0.992108</td>\n",
       "      <td>1.000000</td>\n",
       "      <td>0.039354</td>\n",
       "      <td>0.223623</td>\n",
       "      <td>0.016561</td>\n",
       "    </tr>\n",
       "    <tr>\n",
       "      <th>ROA</th>\n",
       "      <td>0.036019</td>\n",
       "      <td>-0.005297</td>\n",
       "      <td>0.015593</td>\n",
       "      <td>0.003013</td>\n",
       "      <td>-0.033836</td>\n",
       "      <td>-0.000827</td>\n",
       "      <td>0.000861</td>\n",
       "      <td>-0.024858</td>\n",
       "      <td>0.856458</td>\n",
       "      <td>-0.002331</td>\n",
       "      <td>0.037796</td>\n",
       "      <td>0.003013</td>\n",
       "      <td>0.039970</td>\n",
       "      <td>0.039354</td>\n",
       "      <td>1.000000</td>\n",
       "      <td>0.195718</td>\n",
       "      <td>0.772060</td>\n",
       "    </tr>\n",
       "    <tr>\n",
       "      <th>Average Revenue per Booking</th>\n",
       "      <td>-0.033330</td>\n",
       "      <td>-0.009960</td>\n",
       "      <td>0.283024</td>\n",
       "      <td>0.293301</td>\n",
       "      <td>-0.046970</td>\n",
       "      <td>0.160957</td>\n",
       "      <td>-0.042343</td>\n",
       "      <td>-0.046158</td>\n",
       "      <td>0.096467</td>\n",
       "      <td>0.358445</td>\n",
       "      <td>0.239587</td>\n",
       "      <td>0.293301</td>\n",
       "      <td>0.229896</td>\n",
       "      <td>0.223623</td>\n",
       "      <td>0.195718</td>\n",
       "      <td>1.000000</td>\n",
       "      <td>0.095137</td>\n",
       "    </tr>\n",
       "    <tr>\n",
       "      <th>Probability of Booking</th>\n",
       "      <td>0.032809</td>\n",
       "      <td>0.008993</td>\n",
       "      <td>0.002635</td>\n",
       "      <td>-0.000769</td>\n",
       "      <td>0.004340</td>\n",
       "      <td>-0.002120</td>\n",
       "      <td>0.028059</td>\n",
       "      <td>-0.024613</td>\n",
       "      <td>0.889333</td>\n",
       "      <td>-0.002432</td>\n",
       "      <td>0.015723</td>\n",
       "      <td>-0.000769</td>\n",
       "      <td>0.018974</td>\n",
       "      <td>0.016561</td>\n",
       "      <td>0.772060</td>\n",
       "      <td>0.095137</td>\n",
       "      <td>1.000000</td>\n",
       "    </tr>\n",
       "  </tbody>\n",
       "</table>\n",
       "</div>"
      ],
      "text/plain": [
       "                             Keyword ID  Search Engine Bid    Clicks  \\\n",
       "Keyword ID                     1.000000           0.093671 -0.025194   \n",
       "Search Engine Bid              0.093671           1.000000  0.114934   \n",
       "Clicks                        -0.025194           0.114934  1.000000   \n",
       "Click Charges                 -0.031804           0.113212  0.868330   \n",
       "Avg. Cost per Click            0.172528           0.280368 -0.033787   \n",
       "Impressions                   -0.035015           0.023738  0.400361   \n",
       "Engine Click Thru %            0.180809           0.147721 -0.014000   \n",
       "Avg. Pos.                     -0.080956          -0.267877 -0.021096   \n",
       "Trans. Conv. %                 0.039276           0.002874  0.001533   \n",
       "Total Cost/ Trans.            -0.048383           0.039652  0.192615   \n",
       "Amount                         0.005132           0.107165  0.830764   \n",
       "Total Cost                    -0.031804           0.113212  0.868330   \n",
       "Total Volume of Bookings       0.004136           0.114730  0.827187   \n",
       "Net Revenue                    0.008379           0.101718  0.789419   \n",
       "ROA                            0.036019          -0.005297  0.015593   \n",
       "Average Revenue per Booking   -0.033330          -0.009960  0.283024   \n",
       "Probability of Booking         0.032809           0.008993  0.002635   \n",
       "\n",
       "                             Click Charges  Avg. Cost per Click  Impressions  \\\n",
       "Keyword ID                       -0.031804             0.172528    -0.035015   \n",
       "Search Engine Bid                 0.113212             0.280368     0.023738   \n",
       "Clicks                            0.868330            -0.033787     0.400361   \n",
       "Click Charges                     1.000000             0.029171     0.431231   \n",
       "Avg. Cost per Click               0.029171             1.000000    -0.016912   \n",
       "Impressions                       0.431231            -0.016912     1.000000   \n",
       "Engine Click Thru %              -0.027310             0.106898    -0.026821   \n",
       "Avg. Pos.                        -0.018533            -0.113344    -0.005288   \n",
       "Trans. Conv. %                   -0.000401             0.003308    -0.001338   \n",
       "Total Cost/ Trans.                0.333614             0.058178     0.201258   \n",
       "Amount                            0.549963            -0.047568     0.104770   \n",
       "Total Cost                        1.000000             0.029171     0.431231   \n",
       "Total Volume of Bookings          0.539573            -0.048201     0.092177   \n",
       "Net Revenue                       0.482530            -0.052634     0.069241   \n",
       "ROA                               0.003013            -0.033836    -0.000827   \n",
       "Average Revenue per Booking       0.293301            -0.046970     0.160957   \n",
       "Probability of Booking           -0.000769             0.004340    -0.002120   \n",
       "\n",
       "                             Engine Click Thru %  Avg. Pos.  Trans. Conv. %  \\\n",
       "Keyword ID                              0.180809  -0.080956        0.039276   \n",
       "Search Engine Bid                       0.147721  -0.267877        0.002874   \n",
       "Clicks                                 -0.014000  -0.021096        0.001533   \n",
       "Click Charges                          -0.027310  -0.018533       -0.000401   \n",
       "Avg. Cost per Click                     0.106898  -0.113344        0.003308   \n",
       "Impressions                            -0.026821  -0.005288       -0.001338   \n",
       "Engine Click Thru %                     1.000000  -0.221802        0.001666   \n",
       "Avg. Pos.                              -0.221802   1.000000       -0.013475   \n",
       "Trans. Conv. %                          0.001666  -0.013475        1.000000   \n",
       "Total Cost/ Trans.                     -0.040646  -0.012189       -0.000528   \n",
       "Amount                                  0.008413  -0.030424        0.014417   \n",
       "Total Cost                             -0.027310  -0.018533       -0.000401   \n",
       "Total Volume of Bookings                0.009194  -0.031914        0.017679   \n",
       "Net Revenue                             0.011397  -0.030160        0.015157   \n",
       "ROA                                     0.000861  -0.024858        0.856458   \n",
       "Average Revenue per Booking            -0.042343  -0.046158        0.096467   \n",
       "Probability of Booking                  0.028059  -0.024613        0.889333   \n",
       "\n",
       "                             Total Cost/ Trans.    Amount  Total Cost  \\\n",
       "Keyword ID                            -0.048383  0.005132   -0.031804   \n",
       "Search Engine Bid                      0.039652  0.107165    0.113212   \n",
       "Clicks                                 0.192615  0.830764    0.868330   \n",
       "Click Charges                          0.333614  0.549963    1.000000   \n",
       "Avg. Cost per Click                    0.058178 -0.047568    0.029171   \n",
       "Impressions                            0.201258  0.104770    0.431231   \n",
       "Engine Click Thru %                   -0.040646  0.008413   -0.027310   \n",
       "Avg. Pos.                             -0.012189 -0.030424   -0.018533   \n",
       "Trans. Conv. %                        -0.000528  0.014417   -0.000401   \n",
       "Total Cost/ Trans.                     1.000000  0.035870    0.333614   \n",
       "Amount                                 0.035870  1.000000    0.549963   \n",
       "Total Cost                             0.333614  0.549963    1.000000   \n",
       "Total Volume of Bookings               0.036950  0.994498    0.539573   \n",
       "Net Revenue                            0.006182  0.996899    0.482530   \n",
       "ROA                                   -0.002331  0.037796    0.003013   \n",
       "Average Revenue per Booking            0.358445  0.239587    0.293301   \n",
       "Probability of Booking                -0.002432  0.015723   -0.000769   \n",
       "\n",
       "                             Total Volume of Bookings  Net Revenue       ROA  \\\n",
       "Keyword ID                                   0.004136     0.008379  0.036019   \n",
       "Search Engine Bid                            0.114730     0.101718 -0.005297   \n",
       "Clicks                                       0.827187     0.789419  0.015593   \n",
       "Click Charges                                0.539573     0.482530  0.003013   \n",
       "Avg. Cost per Click                         -0.048201    -0.052634 -0.033836   \n",
       "Impressions                                  0.092177     0.069241 -0.000827   \n",
       "Engine Click Thru %                          0.009194     0.011397  0.000861   \n",
       "Avg. Pos.                                   -0.031914    -0.030160 -0.024858   \n",
       "Trans. Conv. %                               0.017679     0.015157  0.856458   \n",
       "Total Cost/ Trans.                           0.036950     0.006182 -0.002331   \n",
       "Amount                                       0.994498     0.996899  0.037796   \n",
       "Total Cost                                   0.539573     0.482530  0.003013   \n",
       "Total Volume of Bookings                     1.000000     0.992108  0.039970   \n",
       "Net Revenue                                  0.992108     1.000000  0.039354   \n",
       "ROA                                          0.039970     0.039354  1.000000   \n",
       "Average Revenue per Booking                  0.229896     0.223623  0.195718   \n",
       "Probability of Booking                       0.018974     0.016561  0.772060   \n",
       "\n",
       "                             Average Revenue per Booking  \\\n",
       "Keyword ID                                     -0.033330   \n",
       "Search Engine Bid                              -0.009960   \n",
       "Clicks                                          0.283024   \n",
       "Click Charges                                   0.293301   \n",
       "Avg. Cost per Click                            -0.046970   \n",
       "Impressions                                     0.160957   \n",
       "Engine Click Thru %                            -0.042343   \n",
       "Avg. Pos.                                      -0.046158   \n",
       "Trans. Conv. %                                  0.096467   \n",
       "Total Cost/ Trans.                              0.358445   \n",
       "Amount                                          0.239587   \n",
       "Total Cost                                      0.293301   \n",
       "Total Volume of Bookings                        0.229896   \n",
       "Net Revenue                                     0.223623   \n",
       "ROA                                             0.195718   \n",
       "Average Revenue per Booking                     1.000000   \n",
       "Probability of Booking                          0.095137   \n",
       "\n",
       "                             Probability of Booking  \n",
       "Keyword ID                                 0.032809  \n",
       "Search Engine Bid                          0.008993  \n",
       "Clicks                                     0.002635  \n",
       "Click Charges                             -0.000769  \n",
       "Avg. Cost per Click                        0.004340  \n",
       "Impressions                               -0.002120  \n",
       "Engine Click Thru %                        0.028059  \n",
       "Avg. Pos.                                 -0.024613  \n",
       "Trans. Conv. %                             0.889333  \n",
       "Total Cost/ Trans.                        -0.002432  \n",
       "Amount                                     0.015723  \n",
       "Total Cost                                -0.000769  \n",
       "Total Volume of Bookings                   0.018974  \n",
       "Net Revenue                                0.016561  \n",
       "ROA                                        0.772060  \n",
       "Average Revenue per Booking                0.095137  \n",
       "Probability of Booking                     1.000000  "
      ]
     },
     "execution_count": 29,
     "metadata": {},
     "output_type": "execute_result"
    }
   ],
   "source": [
    "AirFrance_df.corr(method=\"pearson\")"
   ]
  },
  {
   "cell_type": "markdown",
   "metadata": {},
   "source": [
    "## Observation:\n",
    "\n",
    "multicollinearity was observed between Clicks and Click Charges. We can drop one of the columns for the model <br>\n",
    "multicollinearity was observed between Amount, Net Revenue,Total Volume of Booking. We can drop two of the columns for the model"
   ]
  },
  {
   "cell_type": "markdown",
   "metadata": {},
   "source": [
    "# For changing categorical variable to numberical we can use labelEncoder\n",
    "\n",
    "### According my domain knowledge for this particular dataset based on my learning and research converting keyword, keyword group and searcg engine bid here "
   ]
  },
  {
   "cell_type": "code",
   "execution_count": 30,
   "metadata": {},
   "outputs": [],
   "source": [
    "from sklearn.preprocessing import LabelEncoder\n",
    "le = LabelEncoder()"
   ]
  },
  {
   "cell_type": "code",
   "execution_count": 31,
   "metadata": {},
   "outputs": [],
   "source": [
    "AirFrance_df['Keyword'] = le.fit_transform(AirFrance_df['Keyword'])\n",
    "AirFrance_df['Keyword Group'] = le.fit_transform(AirFrance_df['Keyword Group'])\n",
    "AirFrance_df['Bid Strategy'] = le.fit_transform(AirFrance_df['Bid Strategy'])\n",
    "AirFrance_df['Search Engine Bid'] = le.fit_transform(AirFrance_df['Search Engine Bid'])"
   ]
  },
  {
   "cell_type": "code",
   "execution_count": 32,
   "metadata": {},
   "outputs": [
    {
     "data": {
      "text/html": [
       "<div>\n",
       "<style scoped>\n",
       "    .dataframe tbody tr th:only-of-type {\n",
       "        vertical-align: middle;\n",
       "    }\n",
       "\n",
       "    .dataframe tbody tr th {\n",
       "        vertical-align: top;\n",
       "    }\n",
       "\n",
       "    .dataframe thead th {\n",
       "        text-align: right;\n",
       "    }\n",
       "</style>\n",
       "<table border=\"1\" class=\"dataframe\">\n",
       "  <thead>\n",
       "    <tr style=\"text-align: right;\">\n",
       "      <th></th>\n",
       "      <th>Publisher ID</th>\n",
       "      <th>Publisher Name</th>\n",
       "      <th>Keyword ID</th>\n",
       "      <th>Keyword</th>\n",
       "      <th>Match Type</th>\n",
       "      <th>Campaign</th>\n",
       "      <th>Keyword Group</th>\n",
       "      <th>Category</th>\n",
       "      <th>Bid Strategy</th>\n",
       "      <th>Keyword Type</th>\n",
       "      <th>...</th>\n",
       "      <th>Avg. Pos.</th>\n",
       "      <th>Trans. Conv. %</th>\n",
       "      <th>Total Cost/ Trans.</th>\n",
       "      <th>Amount</th>\n",
       "      <th>Total Cost</th>\n",
       "      <th>Total Volume of Bookings</th>\n",
       "      <th>Net Revenue</th>\n",
       "      <th>ROA</th>\n",
       "      <th>Average Revenue per Booking</th>\n",
       "      <th>Probability of Booking</th>\n",
       "    </tr>\n",
       "  </thead>\n",
       "  <tbody>\n",
       "    <tr>\n",
       "      <th>0</th>\n",
       "      <td>K2615</td>\n",
       "      <td>Yahoo - US</td>\n",
       "      <td>43000000039657988</td>\n",
       "      <td>1117</td>\n",
       "      <td>Advanced</td>\n",
       "      <td>Western Europe Destinations</td>\n",
       "      <td>142</td>\n",
       "      <td>uncategorized</td>\n",
       "      <td>6</td>\n",
       "      <td>Unassigned</td>\n",
       "      <td>...</td>\n",
       "      <td>1.272727</td>\n",
       "      <td>900.000000</td>\n",
       "      <td>0.256944</td>\n",
       "      <td>8777.95</td>\n",
       "      <td>2.3125</td>\n",
       "      <td>9</td>\n",
       "      <td>8775.6375</td>\n",
       "      <td>379487.027027</td>\n",
       "      <td>975.327778</td>\n",
       "      <td>0.818182</td>\n",
       "    </tr>\n",
       "    <tr>\n",
       "      <th>1</th>\n",
       "      <td>K2615</td>\n",
       "      <td>Yahoo - US</td>\n",
       "      <td>43000000039651113</td>\n",
       "      <td>1463</td>\n",
       "      <td>Advanced</td>\n",
       "      <td>Geo Targeted DC</td>\n",
       "      <td>264</td>\n",
       "      <td>uncategorized</td>\n",
       "      <td>6</td>\n",
       "      <td>Unassigned</td>\n",
       "      <td>...</td>\n",
       "      <td>1.000000</td>\n",
       "      <td>100.000000</td>\n",
       "      <td>0.625000</td>\n",
       "      <td>1574.20</td>\n",
       "      <td>0.6250</td>\n",
       "      <td>1</td>\n",
       "      <td>1573.5750</td>\n",
       "      <td>251772.000000</td>\n",
       "      <td>1574.200000</td>\n",
       "      <td>0.166667</td>\n",
       "    </tr>\n",
       "    <tr>\n",
       "      <th>2</th>\n",
       "      <td>K2003</td>\n",
       "      <td>MSN - Global</td>\n",
       "      <td>43000000019452431</td>\n",
       "      <td>39</td>\n",
       "      <td>Broad</td>\n",
       "      <td>Air France Brand &amp; French Destinations</td>\n",
       "      <td>144</td>\n",
       "      <td>uncategorized</td>\n",
       "      <td>5</td>\n",
       "      <td>Unassigned</td>\n",
       "      <td>...</td>\n",
       "      <td>1.111111</td>\n",
       "      <td>100.000000</td>\n",
       "      <td>0.387500</td>\n",
       "      <td>390.15</td>\n",
       "      <td>0.3875</td>\n",
       "      <td>1</td>\n",
       "      <td>389.7625</td>\n",
       "      <td>100583.870968</td>\n",
       "      <td>390.150000</td>\n",
       "      <td>0.111111</td>\n",
       "    </tr>\n",
       "    <tr>\n",
       "      <th>3</th>\n",
       "      <td>K1175</td>\n",
       "      <td>Google - Global</td>\n",
       "      <td>43000000005663331</td>\n",
       "      <td>2</td>\n",
       "      <td>Exact</td>\n",
       "      <td>Air France Global Campaign</td>\n",
       "      <td>0</td>\n",
       "      <td>airfrance</td>\n",
       "      <td>2</td>\n",
       "      <td>Unassigned</td>\n",
       "      <td>...</td>\n",
       "      <td>2.000000</td>\n",
       "      <td>3.389831</td>\n",
       "      <td>1.156250</td>\n",
       "      <td>1665.15</td>\n",
       "      <td>2.3125</td>\n",
       "      <td>2</td>\n",
       "      <td>1662.8375</td>\n",
       "      <td>71906.491546</td>\n",
       "      <td>832.575000</td>\n",
       "      <td>0.004988</td>\n",
       "    </tr>\n",
       "    <tr>\n",
       "      <th>4</th>\n",
       "      <td>K1123</td>\n",
       "      <td>Overture - Global</td>\n",
       "      <td>43000000005421354</td>\n",
       "      <td>111</td>\n",
       "      <td>Standard</td>\n",
       "      <td>Unassigned</td>\n",
       "      <td>342</td>\n",
       "      <td>airfrance</td>\n",
       "      <td>3</td>\n",
       "      <td>Unassigned</td>\n",
       "      <td>...</td>\n",
       "      <td>2.975786</td>\n",
       "      <td>12.500000</td>\n",
       "      <td>2.200000</td>\n",
       "      <td>935.00</td>\n",
       "      <td>2.2000</td>\n",
       "      <td>1</td>\n",
       "      <td>932.8000</td>\n",
       "      <td>42400.000000</td>\n",
       "      <td>935.000000</td>\n",
       "      <td>0.003145</td>\n",
       "    </tr>\n",
       "  </tbody>\n",
       "</table>\n",
       "<p>5 rows × 27 columns</p>\n",
       "</div>"
      ],
      "text/plain": [
       "  Publisher ID     Publisher Name         Keyword ID  Keyword Match Type  \\\n",
       "0        K2615         Yahoo - US  43000000039657988     1117   Advanced   \n",
       "1        K2615         Yahoo - US  43000000039651113     1463   Advanced   \n",
       "2        K2003       MSN - Global  43000000019452431       39      Broad   \n",
       "3        K1175    Google - Global  43000000005663331        2      Exact   \n",
       "4        K1123  Overture - Global  43000000005421354      111   Standard   \n",
       "\n",
       "                                 Campaign  Keyword Group       Category  \\\n",
       "0             Western Europe Destinations            142  uncategorized   \n",
       "1                         Geo Targeted DC            264  uncategorized   \n",
       "2  Air France Brand & French Destinations            144  uncategorized   \n",
       "3              Air France Global Campaign              0      airfrance   \n",
       "4                              Unassigned            342      airfrance   \n",
       "\n",
       "   Bid Strategy Keyword Type  ... Avg. Pos.  Trans. Conv. %  \\\n",
       "0             6   Unassigned  ...  1.272727      900.000000   \n",
       "1             6   Unassigned  ...  1.000000      100.000000   \n",
       "2             5   Unassigned  ...  1.111111      100.000000   \n",
       "3             2   Unassigned  ...  2.000000        3.389831   \n",
       "4             3   Unassigned  ...  2.975786       12.500000   \n",
       "\n",
       "   Total Cost/ Trans.   Amount  Total Cost  Total Volume of Bookings  \\\n",
       "0            0.256944  8777.95      2.3125                         9   \n",
       "1            0.625000  1574.20      0.6250                         1   \n",
       "2            0.387500   390.15      0.3875                         1   \n",
       "3            1.156250  1665.15      2.3125                         2   \n",
       "4            2.200000   935.00      2.2000                         1   \n",
       "\n",
       "   Net Revenue            ROA  Average Revenue per Booking  \\\n",
       "0    8775.6375  379487.027027                   975.327778   \n",
       "1    1573.5750  251772.000000                  1574.200000   \n",
       "2     389.7625  100583.870968                   390.150000   \n",
       "3    1662.8375   71906.491546                   832.575000   \n",
       "4     932.8000   42400.000000                   935.000000   \n",
       "\n",
       "   Probability of Booking  \n",
       "0                0.818182  \n",
       "1                0.166667  \n",
       "2                0.111111  \n",
       "3                0.004988  \n",
       "4                0.003145  \n",
       "\n",
       "[5 rows x 27 columns]"
      ]
     },
     "execution_count": 32,
     "metadata": {},
     "output_type": "execute_result"
    }
   ],
   "source": [
    "AirFrance_df.head()"
   ]
  },
  {
   "cell_type": "markdown",
   "metadata": {},
   "source": [
    "# Start to do regression model"
   ]
  },
  {
   "cell_type": "code",
   "execution_count": 33,
   "metadata": {},
   "outputs": [],
   "source": [
    "import statsmodels.api as sm"
   ]
  },
  {
   "cell_type": "markdown",
   "metadata": {},
   "source": [
    "# 1st Attempt\n",
    "\n",
    "### Including maximum number of the columns from our dataset and not including thoes according to my understanding are not significant for our regression model"
   ]
  },
  {
   "cell_type": "code",
   "execution_count": 34,
   "metadata": {},
   "outputs": [
    {
     "name": "stderr",
     "output_type": "stream",
     "text": [
      "C:\\Users\\monik\\Anaconda3\\lib\\site-packages\\numpy\\core\\fromnumeric.py:2389: FutureWarning: Method .ptp is deprecated and will be removed in a future version. Use numpy.ptp instead.\n",
      "  return ptp(axis=axis, out=out, **kwargs)\n"
     ]
    }
   ],
   "source": [
    "indepvar=sm.add_constant(AirFrance_df[['Keyword','Keyword Group','Bid Strategy','Search Engine Bid','Click Charges','Impressions','Engine Click Thru %','Trans. Conv. %','Avg. Pos.','Total Cost/ Trans.','Total Cost/ Trans.','Amount']])"
   ]
  },
  {
   "cell_type": "code",
   "execution_count": 35,
   "metadata": {},
   "outputs": [
    {
     "name": "stdout",
     "output_type": "stream",
     "text": [
      "                            OLS Regression Results                            \n",
      "==============================================================================\n",
      "Dep. Variable:             Total Cost   R-squared:                       1.000\n",
      "Model:                            OLS   Adj. R-squared:                  1.000\n",
      "Method:                 Least Squares   F-statistic:                 3.266e+31\n",
      "Date:                Tue, 05 May 2020   Prob (F-statistic):               0.00\n",
      "Time:                        22:44:55   Log-Likelihood:             1.1119e+05\n",
      "No. Observations:                4510   AIC:                        -2.224e+05\n",
      "Df Residuals:                    4498   BIC:                        -2.223e+05\n",
      "Df Model:                          11                                         \n",
      "Covariance Type:            nonrobust                                         \n",
      "=======================================================================================\n",
      "                          coef    std err          t      P>|t|      [0.025      0.975]\n",
      "---------------------------------------------------------------------------------------\n",
      "const               -1.852e-12   4.17e-13     -4.440      0.000   -2.67e-12   -1.03e-12\n",
      "Keyword              4.649e-16   1.29e-16      3.602      0.000    2.12e-16    7.18e-16\n",
      "Keyword Group        1.692e-15   7.13e-16      2.374      0.018    2.95e-16    3.09e-15\n",
      "Bid Strategy          1.35e-13   5.64e-14      2.394      0.017    2.44e-14    2.46e-13\n",
      "Search Engine Bid   -3.111e-15   2.11e-15     -1.476      0.140   -7.24e-15    1.02e-15\n",
      "Click Charges           1.0000   7.49e-17   1.33e+16      0.000       1.000       1.000\n",
      "Impressions          3.316e-18   4.71e-19      7.037      0.000    2.39e-18    4.24e-18\n",
      "Engine Click Thru % -7.528e-16   3.67e-15     -0.205      0.838   -7.95e-15    6.44e-15\n",
      "Trans. Conv. %      -9.397e-15   5.11e-15     -1.839      0.066   -1.94e-14    6.22e-16\n",
      "Avg. Pos.            8.011e-14      7e-14      1.144      0.253   -5.71e-14    2.17e-13\n",
      "Total Cost/ Trans.   5.697e-16    1.7e-16      3.356      0.001    2.37e-16    9.03e-16\n",
      "Total Cost/ Trans.   2.161e-16    1.7e-16      1.273      0.203   -1.17e-16    5.49e-16\n",
      "Amount              -3.628e-16   5.89e-18    -61.544      0.000   -3.74e-16   -3.51e-16\n",
      "==============================================================================\n",
      "Omnibus:                    10223.903   Durbin-Watson:                   1.803\n",
      "Prob(Omnibus):                  0.000   Jarque-Bera (JB):        101872522.744\n",
      "Skew:                          21.148   Prob(JB):                         0.00\n",
      "Kurtosis:                     738.069   Cond. No.                     2.29e+18\n",
      "==============================================================================\n",
      "\n",
      "Warnings:\n",
      "[1] Standard Errors assume that the covariance matrix of the errors is correctly specified.\n",
      "[2] The smallest eigenvalue is 2.49e-23. This might indicate that there are\n",
      "strong multicollinearity problems or that the design matrix is singular.\n"
     ]
    }
   ],
   "source": [
    "model_1=sm.OLS(AirFrance_df['Total Cost'],indepvar)\n",
    "res1=model_1.fit()\n",
    "print(res1.summary())"
   ]
  },
  {
   "cell_type": "markdown",
   "metadata": {},
   "source": [
    "### P>|t| column is the p-value , which represents a significance level. p-values for any variable greater than 0.05 is considered as Not significant. Hence we can drop thoes varibles from our model."
   ]
  },
  {
   "cell_type": "markdown",
   "metadata": {},
   "source": [
    "# 2nd Attempt"
   ]
  },
  {
   "cell_type": "code",
   "execution_count": 36,
   "metadata": {},
   "outputs": [
    {
     "name": "stdout",
     "output_type": "stream",
     "text": [
      "                                 OLS Regression Results                                \n",
      "=======================================================================================\n",
      "Dep. Variable:             Total Cost   R-squared (uncentered):                   0.865\n",
      "Model:                            OLS   Adj. R-squared (uncentered):              0.865\n",
      "Method:                 Least Squares   F-statistic:                              3615.\n",
      "Date:                Tue, 05 May 2020   Prob (F-statistic):                        0.00\n",
      "Time:                        22:44:55   Log-Likelihood:                         -34395.\n",
      "No. Observations:                4510   AIC:                                  6.881e+04\n",
      "Df Residuals:                    4502   BIC:                                  6.886e+04\n",
      "Df Model:                           8                                                  \n",
      "Covariance Type:            nonrobust                                                  \n",
      "=======================================================================================\n",
      "                          coef    std err          t      P>|t|      [0.025      0.975]\n",
      "---------------------------------------------------------------------------------------\n",
      "Keyword                 0.0572      0.011      5.220      0.000       0.036       0.079\n",
      "Keyword Group          -0.2336      0.053     -4.385      0.000      -0.338      -0.129\n",
      "Clicks                  1.6952      0.016    108.847      0.000       1.665       1.726\n",
      "Impressions            -0.0005   5.33e-05    -10.066      0.000      -0.001      -0.000\n",
      "Engine Click Thru %    -0.2058      0.358     -0.575      0.565      -0.907       0.495\n",
      "Trans. Conv. %          0.5382      0.534      1.008      0.313      -0.508       1.585\n",
      "Total Cost/ Trans.      0.6484      0.034     18.937      0.000       0.581       0.716\n",
      "Amount                 -0.0504      0.001    -49.704      0.000      -0.052      -0.048\n",
      "==============================================================================\n",
      "Omnibus:                     6203.109   Durbin-Watson:                   1.896\n",
      "Prob(Omnibus):                  0.000   Jarque-Bera (JB):         28973390.217\n",
      "Skew:                           6.783   Prob(JB):                         0.00\n",
      "Kurtosis:                     395.426   Cond. No.                     1.23e+04\n",
      "==============================================================================\n",
      "\n",
      "Warnings:\n",
      "[1] Standard Errors assume that the covariance matrix of the errors is correctly specified.\n",
      "[2] The condition number is large, 1.23e+04. This might indicate that there are\n",
      "strong multicollinearity or other numerical problems.\n"
     ]
    }
   ],
   "source": [
    "model_2=sm.OLS(AirFrance_df['Total Cost'],AirFrance_df[['Keyword','Keyword Group','Clicks','Impressions', 'Engine Click Thru %','Trans. Conv. %','Total Cost/ Trans.','Amount']])\n",
    "res2=model_2.fit()\n",
    "print(res2.summary())"
   ]
  },
  {
   "cell_type": "markdown",
   "metadata": {},
   "source": [
    "#### The condition number is large, 1.23e+04. This might indicate that there are strong multicollinearity or other numerical problems. So the choice of columns is wrong.\n"
   ]
  },
  {
   "cell_type": "markdown",
   "metadata": {},
   "source": [
    "# FINAL : 3rd Attempt"
   ]
  },
  {
   "cell_type": "code",
   "execution_count": 41,
   "metadata": {},
   "outputs": [],
   "source": [
    "varible = ['Keyword','Clicks','Impressions','Total Cost/ Trans.','Amount']"
   ]
  },
  {
   "cell_type": "code",
   "execution_count": 42,
   "metadata": {},
   "outputs": [],
   "source": [
    "from sklearn.preprocessing import StandardScaler\n",
    "\n",
    "sc = StandardScaler()\n",
    "X_scaled = sc.fit_transform(AirFrance_df[varible])"
   ]
  },
  {
   "cell_type": "code",
   "execution_count": 43,
   "metadata": {},
   "outputs": [],
   "source": [
    "indepvar1=sm.add_constant(X_scaled)"
   ]
  },
  {
   "cell_type": "code",
   "execution_count": 44,
   "metadata": {},
   "outputs": [
    {
     "name": "stdout",
     "output_type": "stream",
     "text": [
      "                            OLS Regression Results                            \n",
      "==============================================================================\n",
      "Dep. Variable:             Total Cost   R-squared:                       0.863\n",
      "Model:                            OLS   Adj. R-squared:                  0.862\n",
      "Method:                 Least Squares   F-statistic:                     5657.\n",
      "Date:                Tue, 05 May 2020   Prob (F-statistic):               0.00\n",
      "Time:                        22:45:28   Log-Likelihood:                -34404.\n",
      "No. Observations:                4510   AIC:                         6.882e+04\n",
      "Df Residuals:                    4504   BIC:                         6.886e+04\n",
      "Df Model:                           5                                         \n",
      "Covariance Type:            nonrobust                                         \n",
      "==============================================================================\n",
      "                 coef    std err          t      P>|t|      [0.025      0.975]\n",
      "------------------------------------------------------------------------------\n",
      "const        167.4758      7.412     22.595      0.000     152.944     182.007\n",
      "x1            19.8571      7.452      2.665      0.008       5.247      34.467\n",
      "x2          1799.0207     16.573    108.552      0.000    1766.530    1831.512\n",
      "x3           -91.8418      9.049    -10.150      0.000    -109.582     -74.102\n",
      "x4           146.6864      7.764     18.894      0.000     131.466     161.907\n",
      "x5          -750.0293     15.159    -49.478      0.000    -779.748    -720.310\n",
      "==============================================================================\n",
      "Omnibus:                     6243.240   Durbin-Watson:                   1.895\n",
      "Prob(Omnibus):                  0.000   Jarque-Bera (JB):         29139594.119\n",
      "Skew:                           6.878   Prob(JB):                         0.00\n",
      "Kurtosis:                     396.545   Cond. No.                         4.30\n",
      "==============================================================================\n",
      "\n",
      "Warnings:\n",
      "[1] Standard Errors assume that the covariance matrix of the errors is correctly specified.\n"
     ]
    }
   ],
   "source": [
    "model_3=sm.OLS(AirFrance_df['Total Cost'],indepvar1)\n",
    "res3=model_3.fit()\n",
    "print(res3.summary())"
   ]
  },
  {
   "cell_type": "markdown",
   "metadata": {},
   "source": [
    "### Interpreting the Regression Results\n",
    "\n",
    "I highlighted several important components within the results:\n",
    "\n",
    "1. Adjusted. R-squared reflects the fit of the model. R-squared values range from 0 to 1, where a higher value generally indicates a better fit, assuming certain conditions are met. In this model, the Adj. R-squared value is 86%. \n",
    "<br>\n",
    "<br>\n",
    "2. const coefficient is Y-intercept. It means that if all the varible's coefficients are zero, then the expected output (i.e., the Y) would be equal to the const coefficient.\n",
    "<br>\n",
    "3. Keyword Group (X1) coefficient represents the change in the output Y due to a change of one unit in the Keyword Group (everything else held constant)\n",
    "<br>\n",
    "<br>\n",
    "4. Clicks (X2) coefficient represents the change in the output Y due to a change of one unit in the Clicks(everything else held constant)\n",
    "<br>\n",
    "<br>\n",
    "5. Impressions (X3) coefficient represents the change in the output Y due to a change of one unit in the Impressions(everything else held constant)\n",
    "<br>\n",
    "<br>\n",
    "6. Total Cost/ Trans.(X4) coefficient represents the change in the output Y due to a change of one unit in the Total Cost/ Trans(everything else held constant)\n",
    "<br>\n",
    "<br>\n",
    "7. Amount.(X4) coefficient represents the change in the output Y due to a change of one unit in the Amount(everything else held constant)\n",
    "<br>\n",
    "<br>\n",
    "8. std err reflects the level of accuracy of the coefficients. The lower it is, the higher is the level of accuracy\n",
    "<br>\n",
    "<br>\n",
    "9. P >|t| is your p-value. A p-value of less than 0.05 is considered to be statistically significant\n",
    "<br>\n",
    "<br>\n",
    "10. Confidence Interval represents the range in which our coefficients are likely to fall (with a likelihood of 95%)"
   ]
  },
  {
   "cell_type": "code",
   "execution_count": null,
   "metadata": {},
   "outputs": [],
   "source": []
  },
  {
   "cell_type": "code",
   "execution_count": null,
   "metadata": {},
   "outputs": [],
   "source": []
  },
  {
   "cell_type": "code",
   "execution_count": null,
   "metadata": {},
   "outputs": [],
   "source": []
  }
 ],
 "metadata": {
  "kernelspec": {
   "display_name": "Python 3",
   "language": "python",
   "name": "python3"
  },
  "language_info": {
   "codemirror_mode": {
    "name": "ipython",
    "version": 3
   },
   "file_extension": ".py",
   "mimetype": "text/x-python",
   "name": "python",
   "nbconvert_exporter": "python",
   "pygments_lexer": "ipython3",
   "version": "3.7.3"
  }
 },
 "nbformat": 4,
 "nbformat_minor": 2
}
